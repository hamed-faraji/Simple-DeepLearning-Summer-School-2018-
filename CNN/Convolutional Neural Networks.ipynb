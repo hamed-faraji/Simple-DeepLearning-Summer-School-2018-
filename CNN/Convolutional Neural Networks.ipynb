{
 "cells": [
  {
   "cell_type": "markdown",
   "metadata": {},
   "source": [
    "# Simple Convolutional Neural Network\n",
    "\n",
    "## train a simple CNN on MNIST dataset."
   ]
  },
  {
   "cell_type": "markdown",
   "metadata": {},
   "source": [
    "### 1. Loading Essential Packages"
   ]
  },
  {
   "cell_type": "code",
   "execution_count": 1,
   "metadata": {},
   "outputs": [
    {
     "name": "stderr",
     "output_type": "stream",
     "text": [
      "Using TensorFlow backend.\n"
     ]
    }
   ],
   "source": [
    "from __future__ import print_function\n",
    "import keras\n",
    "from keras.datasets import mnist\n",
    "from keras.models import Sequential\n",
    "from keras.layers import Dense, Dropout, Flatten\n",
    "from keras.layers import Conv2D, MaxPooling2D\n",
    "from keras import backend as K\n",
    "import numpy as np"
   ]
  },
  {
   "cell_type": "markdown",
   "metadata": {},
   "source": [
    "### 2. Seting the hyper-parameters Value"
   ]
  },
  {
   "cell_type": "code",
   "execution_count": 3,
   "metadata": {},
   "outputs": [],
   "source": [
    "batch_size = 128    # Here we define the batch size value\n",
    "num_classes = 10    # Assign the number of class exists in MNIST dataset\n",
    "epochs = 12       # Total Number of iteratin on mnist dataset \n",
    "img_rows, img_cols = 28, 28        # input image dimensions"
   ]
  },
  {
   "cell_type": "markdown",
   "metadata": {},
   "source": [
    "### 3. Loading MNIST Dataset"
   ]
  },
  {
   "cell_type": "code",
   "execution_count": 4,
   "metadata": {},
   "outputs": [],
   "source": [
    "# the data, split between train and test sets\n",
    "(x_train, y_train), (x_test, y_test) = mnist.load_data()"
   ]
  },
  {
   "cell_type": "markdown",
   "metadata": {},
   "source": [
    "### 4. This is an advance topic and not essential to be adept at this!"
   ]
  },
  {
   "cell_type": "code",
   "execution_count": 5,
   "metadata": {},
   "outputs": [],
   "source": [
    "if K.image_data_format() == 'channels_first':\n",
    "    x_train = x_train.reshape(x_train.shape[0], 1, img_rows, img_cols)\n",
    "    x_test = x_test.reshape(x_test.shape[0], 1, img_rows, img_cols)\n",
    "    input_shape = (1, img_rows, img_cols)\n",
    "else:\n",
    "    x_train = x_train.reshape(x_train.shape[0], img_rows, img_cols, 1)\n",
    "    x_test = x_test.reshape(x_test.shape[0], img_rows, img_cols, 1)\n",
    "    input_shape = (img_rows, img_cols, 1)"
   ]
  },
  {
   "cell_type": "markdown",
   "metadata": {},
   "source": [
    "### 5. Here we are going to do:\n",
    "1. Change variables type\n",
    "2. Normalized the numbers in a range between 0 and 1\n",
    "3. Get the exact dimension of each variable"
   ]
  },
  {
   "cell_type": "code",
   "execution_count": 6,
   "metadata": {},
   "outputs": [
    {
     "name": "stdout",
     "output_type": "stream",
     "text": [
      "x_train shape: (60000, 28, 28, 1)\n",
      "60000 train samples\n",
      "10000 test samples\n"
     ]
    }
   ],
   "source": [
    "x_train = x_train.astype('float32')      # This is the way we change the variable type\n",
    "x_test = x_test.astype('float32')\n",
    "x_train /= 255                           # Here we normalize the data between 0 and 1\n",
    "x_test /= 255 \n",
    "\n",
    "print('x_train shape:', x_train.shape)\n",
    "print(x_train.shape[0], 'train samples')\n",
    "print(x_test.shape[0], 'test samples')"
   ]
  },
  {
   "cell_type": "markdown",
   "metadata": {},
   "source": [
    "### 6. Using this way, you can find which classes each data point belongs to!"
   ]
  },
  {
   "cell_type": "code",
   "execution_count": 8,
   "metadata": {},
   "outputs": [
    {
     "name": "stdout",
     "output_type": "stream",
     "text": [
      "5\n",
      "4\n",
      "7\n"
     ]
    }
   ],
   "source": [
    "print(y_train[0])    # This refers to that the sample #1 is related to Class 5\n",
    "print(y_train[53])\n",
    "print(y_train[624])"
   ]
  },
  {
   "cell_type": "markdown",
   "metadata": {},
   "source": [
    "### 7.Convert target representation from a simple scalar to one-hot representation:\n",
    "One-Hot encoding. A one hot encoding is a representation of categorical variables as binary vectors. Each integer value is represented as a binary vector that is all zero values except the index of the integer, which is marked with a 1.\n",
    "**for example [0,0,0,0,0,0,1,0,0,0] represent number 6**\n"
   ]
  },
  {
   "cell_type": "code",
   "execution_count": 9,
   "metadata": {},
   "outputs": [],
   "source": [
    "# convert class vectors to binary class matrices\n",
    "y_train = keras.utils.to_categorical(y_train, num_classes)\n",
    "y_test = keras.utils.to_categorical(y_test, num_classes)"
   ]
  },
  {
   "cell_type": "code",
   "execution_count": 10,
   "metadata": {},
   "outputs": [
    {
     "name": "stdout",
     "output_type": "stream",
     "text": [
      "[0. 0. 0. 0. 0. 1. 0. 0. 0. 0.]\n"
     ]
    }
   ],
   "source": [
    "print(y_train[0])    # above command assign 1 to 5th element of a vector and others have value 0."
   ]
  },
  {
   "cell_type": "markdown",
   "metadata": {},
   "source": [
    "### 8.we are going to define a sequential model describer in following:\n",
    "- Conv2D: filters = 32, kernel_size = (3,3), activation = 'relu', input_shape = (1, 28, 28)\n",
    "- Conv2D: filters = 64, kernel_size = (3,3), activation = 'relu'\n",
    "- MaxPooling2D: pool_size=(2, 2)\n",
    "- Dropout: rate = 0.25\n",
    "- Flatten\n",
    "- Dense: units = 128, activation='relu'\n",
    "- Dropout: rate = 0.5\n",
    "- Dense: units = 10, activation='softmax' **its important beacause we have 10 different type of output**"
   ]
  },
  {
   "cell_type": "code",
   "execution_count": 11,
   "metadata": {},
   "outputs": [],
   "source": [
    "model = Sequential()\n",
    "model.add(Conv2D(40,kernel_size=(3,3),activation='relu',input_shape=(28, 28,1)))\n",
    "model.add(Conv2D(80,(3, 3),activation='relu'))\n",
    "model.add(MaxPooling2D(pool_size=(2, 2)))\n",
    "model.add(Dropout(rate = 0.25))\n",
    "model.add(Flatten())\n",
    "model.add(Dense(128,activation='relu'))\n",
    "model.add(Dense(10,activation='softmax'))"
   ]
  },
  {
   "attachments": {
    "image.png": {
     "image/png": "[encoded data removed]"
    }
   },
   "cell_type": "markdown",
   "metadata": {},
   "source": [
    "### 9. Same as before, we need to compile our above model with an optimizer and a caregorical loss function. You already know it.\n",
    "![image.png](attachment:image.png)\n",
    "# <center>loss function graph</center>"
   ]
  },
  {
   "cell_type": "code",
   "execution_count": 12,
   "metadata": {},
   "outputs": [],
   "source": [
    "model.compile(loss=keras.losses.categorical_crossentropy,\n",
    "              optimizer=keras.optimizers.Adadelta(),\n",
    "              metrics=['accuracy'])"
   ]
  },
  {
   "cell_type": "markdown",
   "metadata": {},
   "source": [
    "### 10. Here, we try to fit our model on MNIST Dataset\n",
    "**Batch_size is very important parameter to catch high accuracy**"
   ]
  },
  {
   "cell_type": "code",
   "execution_count": null,
   "metadata": {},
   "outputs": [],
   "source": [
    "model.fit(x_train, y_train,\n",
    "          batch_size=batch_size,\n",
    "          epochs=epochs,\n",
    "          verbose=1,\n",
    "          validation_data=(x_test, y_test))"
   ]
  },
  {
   "cell_type": "markdown",
   "metadata": {},
   "source": [
    "<br>Train on 60000 samples, validate on 10000 samples\n",
    "Epoch 1/12\n",
    "<br>60000/60000 [==============================] - 14s 226us/step - loss: 0.1972 - acc: 0.9397 - val_loss: 0.0593 - val_acc: 0.9808\n",
    "Epoch 2/12\n",
    "<br>60000/60000 [==============================] - 13s 213us/step - loss: 0.0497 - acc: 0.9848 - val_loss: 0.0363 - val_acc: 0.9888\n",
    "Epoch 3/12\n",
    "<br>384/60000 [..............................] - ETA: 12s - loss: 0.0129 - acc: 0.994860000/60000 [==============================] - 13s 212us/step - loss: 0.0328 - acc: 0.9898 - val_loss: 0.0294 - val_acc: 0.9904\n",
    "Epoch 4/12\n",
    "<br>60000/60000 [==============================] - 13s 210us/step - loss: 0.0241 - acc: 0.9928 - val_loss: 0.0281 - val_acc: 0.9913\n",
    "Epoch 5/12\n",
    "<br>22784/60000 [==========>...................] - ETA: 7s - loss: 0.0163 - acc: 0.994560000/60000 [==============================] - 13s 211us/step - loss: 0.0168 - acc: 0.9944 - val_loss: 0.0360 - val_acc: 0.9884\n",
    "Epoch 6/12\n",
    "<br>60000/60000 [==============================] - 13s 217us/step - loss: 0.0132 - acc: 0.9959 - val_loss: 0.0315 - val_acc: 0.9902\n",
    "Epoch 7/12\n",
    "<br>25728/60000 [===========>..................] - ETA: 7s - loss: 0.0093 - acc: 0.997060000/60000 [==============================] - 13s 217us/step - loss: 0.0109 - acc: 0.9965 - val_loss: 0.0307 - val_acc: 0.9908\n",
    "Epoch 8/12\n",
    "<br>60000/60000 [==============================] - 13s 212us/step - loss: 0.0079 - acc: 0.9976 - val_loss: 0.0349 - val_acc: 0.9887\n",
    "Epoch 9/12\n",
    "<br>27264/60000 [============>.................] - ETA: 6s - loss: 0.0067 - acc: 0.997760000/60000 [==============================] - 13s 212us/step - loss: 0.0068 - acc: 0.9978 - val_loss: 0.0342 - val_acc: 0.9902\n",
    "Epoch 10/12\n",
    "<br>60000/60000 [==============================] - 13s 215us/step - loss: 0.0056 - acc: 0.9983 - val_loss: 0.0368 - val_acc: 0.9902\n",
    "Epoch 11/12\n",
    "<br>26624/60000 [============>.................] - ETA: 6s - loss: 0.0044 - acc: 0.998960000/60000 [==============================] - 13s 217us/step - loss: 0.0042 - acc: 0.9987 - val_loss: 0.0339 - val_acc: 0.9916\n",
    "Epoch 12/12\n",
    "<br>60000/60000 [==============================] - 13s 220us/step - loss: 0.0036 - acc: 0.9989 - val_loss: 0.0414 - val_acc: 0.9899\n",
    "<keras.callbacks.History at 0x7f14b7955a90>\n",
    "## I copied results beacause of time"
   ]
  },
  {
   "cell_type": "code",
   "execution_count": 15,
   "metadata": {},
   "outputs": [],
   "source": [
    "score = model.evaluate(x_test, y_test, verbose=0)\n",
    "print('Test loss:', score[0])\n",
    "print('Test accuracy:', score[1])"
   ]
  },
  {
   "cell_type": "markdown",
   "metadata": {},
   "source": [
    "Test loss: 0.04136581849972936\n",
    "<br>Test accuracy: 0.9899"
   ]
  },
  {
   "cell_type": "markdown",
   "metadata": {},
   "source": [
    "## Pre-trained models and Data Augmentation:\n",
    "In this section, we are going to use a pre-trained model called MobileNet. Using this network and a new dataset, we train a newly defined Convolutinal Neural Network. A comprehensive list of goals are presented bellow\n",
    "\n",
    "1. Finetuning A pre-trained deep neural network\n",
    "2. Training on a new dataset gave you before handson.\n",
    "3. Data Augmenting using KERAS Utilities."
   ]
  },
  {
   "cell_type": "code",
   "execution_count": 16,
   "metadata": {},
   "outputs": [],
   "source": [
    "from keras import applications\n",
    "from keras.preprocessing.image import ImageDataGenerator\n",
    "from keras import optimizers\n",
    "from keras.models import Sequential, Model \n",
    "from keras.layers import Dropout, Flatten, Dense, GlobalAveragePooling2D\n",
    "from keras import backend as k \n",
    "from keras.callbacks import ModelCheckpoint, LearningRateScheduler, TensorBoard, EarlyStopping"
   ]
  },
  {
   "cell_type": "markdown",
   "metadata": {},
   "source": [
    "### 0. Hyper-parameters definition"
   ]
  },
  {
   "cell_type": "code",
   "execution_count": 18,
   "metadata": {},
   "outputs": [],
   "source": [
    "img_width, img_height = 128, 128    # input image has size (3, 128, 128)\n",
    "train_data_dir = \"data/train\"    # Location of training data\n",
    "validation_data_dir = \"data/val\"    # Location of validation data\n",
    "nb_train_samples = 244       # Total Number of Training samples\n",
    "nb_validation_samples = 153       # Total Number of Validations samples\n",
    "batch_size = 16\n",
    "epochs = 50"
   ]
  },
  {
   "cell_type": "code",
   "execution_count": null,
   "metadata": {},
   "outputs": [],
   "source": []
  }
 ],
 "metadata": {
  "kernelspec": {
   "display_name": "Python 3",
   "language": "python",
   "name": "python3"
  },
  "language_info": {
   "codemirror_mode": {
    "name": "ipython",
    "version": 3
   },
   "file_extension": ".py",
   "mimetype": "text/x-python",
   "name": "python",
   "nbconvert_exporter": "python",
   "pygments_lexer": "ipython3",
   "version": "3.6.6"
  }
 },
 "nbformat": 4,
 "nbformat_minor": 2
}
