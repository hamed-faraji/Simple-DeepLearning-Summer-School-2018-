{
 "cells": [
  {
   "cell_type": "markdown",
   "metadata": {},
   "source": [
    "## What We Are Going To Do:\n",
    "We are going to classify images of handwritten digits (MNIST dataset) using a fully-connected neural network.\n",
    "After successful training, our model will be able to guess digits."
   ]
  },
  {
   "cell_type": "code",
   "execution_count": 1,
   "metadata": {},
   "outputs": [
    {
     "name": "stderr",
     "output_type": "stream",
     "text": [
      "Using TensorFlow backend.\n"
     ]
    }
   ],
   "source": [
    "import keras\n",
    "import matplotlib.pyplot as plt #This package is for plotting\n",
    "%matplotlib inline  \n",
    "import numpy as np\n",
    "from keras.datasets import mnist\n",
    "from keras.models import Sequential\n",
    "from keras.layers import Dense, Input\n",
    "from keras.optimizers import SGD\n",
    "from keras.initializers import RandomNormal\n",
    "from keras.models import load_model\n",
    "from sklearn.preprocessing import normalize"
   ]
  },
  {
   "cell_type": "markdown",
   "metadata": {},
   "source": [
    "## 1. Prepare Data:\n",
    "\n",
    "The dataset is loaded in this section. "
   ]
  },
  {
   "cell_type": "code",
   "execution_count": 2,
   "metadata": {},
   "outputs": [
    {
     "name": "stdout",
     "output_type": "stream",
     "text": [
      "train data dim: (60000, 28, 28)\n",
      "255\n",
      "0\n"
     ]
    }
   ],
   "source": [
    "(x_train, y_train), (x_test, y_test) = mnist.load_data()\n",
    "print('train data dim:', x_train.shape)\n",
    "print(np.max(x_train))\n",
    "print(np.min(x_train))"
   ]
  },
  {
   "cell_type": "code",
   "execution_count": 3,
   "metadata": {},
   "outputs": [
    {
     "data": {
      "image/png": "[encoded data removed]",
      "text/plain": [
       "<Figure size 432x288 with 1 Axes>"
      ]
     },
     "metadata": {},
     "output_type": "display_data"
    },
    {
     "name": "stdout",
     "output_type": "stream",
     "text": [
      "3\n"
     ]
    }
   ],
   "source": [
    "rand_num = np.random.randint(len(x_train))\n",
    "\n",
    "plt.imshow(x_train[rand_num],cmap='gray')\n",
    "plt.show()\n",
    "print(y_train[rand_num])"
   ]
  },
  {
   "cell_type": "markdown",
   "metadata": {},
   "source": [
    "**Our Network accept 1D data. So we flatten our 2D image.**"
   ]
  },
  {
   "cell_type": "code",
   "execution_count": 4,
   "metadata": {
    "scrolled": true
   },
   "outputs": [],
   "source": [
    "temp = len(x_train[0])*len(x_train[0][0])\n",
    "x_train = np.reshape(x_train,(len(x_train), temp))\n",
    "x_test = np.reshape(x_test,(len(x_test), temp))"
   ]
  },
  {
   "cell_type": "markdown",
   "metadata": {},
   "source": [
    "**Normalize data by rescaling them to (0,1)**"
   ]
  },
  {
   "cell_type": "code",
   "execution_count": 5,
   "metadata": {},
   "outputs": [],
   "source": [
    "x_train = x_train/np.max(x_train)\n",
    "x_test = x_test/np.max(x_train)"
   ]
  },
  {
   "cell_type": "markdown",
   "metadata": {},
   "source": [
    "**Convert label arrays to 1-hot representation**"
   ]
  },
  {
   "cell_type": "code",
   "execution_count": 6,
   "metadata": {},
   "outputs": [],
   "source": [
    "y_train = keras.utils.to_categorical(y_train, 10)\n",
    "y_test = keras.utils.to_categorical(y_test, 10)"
   ]
  },
  {
   "cell_type": "markdown",
   "metadata": {},
   "source": [
    "## 2. Define Model\n",
    "**Add the following layers to the network:**\n",
    "* Hidden Layer 1: Fully Conncted + Relu Activition (e.g. 512 Nuerons)\n",
    "* Hidden Layer 2: Fully Connected + Relu Activition (e.g. 512 Neurons)\n",
    "* Outout Layer: Fully Connected + Softmax Activition (e.g 10 Neurons) calasses:[0,1,2,3,4,5,6,7,8,9]"
   ]
  },
  {
   "cell_type": "code",
   "execution_count": 7,
   "metadata": {},
   "outputs": [],
   "source": [
    "model = Sequential()\n",
    "# Hidden Layer1:\n",
    "model.add(Dense(512, activation='relu',kernel_initializer = RandomNormal(0,0.01), input_shape=(temp,)))\n",
    "# Hidden Layer2:\n",
    "model.add(Dense(512, activation='relu',kernel_initializer = RandomNormal(0,0.01)))\n",
    "# Output Layer1:\n",
    "model.add(Dense(10, activation='softmax',kernel_initializer = RandomNormal(0,0.01)))"
   ]
  },
  {
   "cell_type": "markdown",
   "metadata": {},
   "source": [
    "**Determine loss function, optimizer and metrics for the model**"
   ]
  },
  {
   "cell_type": "code",
   "execution_count": 8,
   "metadata": {},
   "outputs": [],
   "source": [
    "#the optimizer and its learning rate\n",
    "sgd = SGD(lr=0.01)\n",
    "model.compile(loss='categorical_crossentropy', optimizer=sgd, metrics=['accuracy'])"
   ]
  },
  {
   "cell_type": "markdown",
   "metadata": {},
   "source": [
    "**Print the review of the model**"
   ]
  },
  {
   "cell_type": "code",
   "execution_count": 9,
   "metadata": {},
   "outputs": [
    {
     "name": "stdout",
     "output_type": "stream",
     "text": [
      "_________________________________________________________________\n",
      "Layer (type)                 Output Shape              Param #   \n",
      "=================================================================\n",
      "dense_1 (Dense)              (None, 512)               401920    \n",
      "_________________________________________________________________\n",
      "dense_2 (Dense)              (None, 512)               262656    \n",
      "_________________________________________________________________\n",
      "dense_3 (Dense)              (None, 10)                5130      \n",
      "=================================================================\n",
      "Total params: 669,706\n",
      "Trainable params: 669,706\n",
      "Non-trainable params: 0\n",
      "_________________________________________________________________\n"
     ]
    }
   ],
   "source": [
    "model.summary()\n",
    "# Here we saved the raw model without any training. we will use it later.\n",
    "model.save('raw_model.h5')"
   ]
  },
  {
   "cell_type": "markdown",
   "metadata": {},
   "source": [
    "## 3. Train And Evaluate Model. \n",
    "**Train model on training data**"
   ]
  },
  {
   "cell_type": "code",
   "execution_count": 10,
   "metadata": {},
   "outputs": [
    {
     "name": "stdout",
     "output_type": "stream",
     "text": [
      "Train on 60000 samples, validate on 10000 samples\n",
      "Epoch 1/3\n",
      "60000/60000 [==============================] - 44s 727us/step - loss: 2.0144 - acc: 0.3624 - val_loss: 4.0203 - val_acc: 0.7374\n",
      "Epoch 2/3\n",
      "60000/60000 [==============================] - 43s 717us/step - loss: 0.5878 - acc: 0.8289 - val_loss: 2.0092 - val_acc: 0.8729\n",
      "Epoch 3/3\n",
      "60000/60000 [==============================] - 37s 613us/step - loss: 0.3910 - acc: 0.8879 - val_loss: 1.6633 - val_acc: 0.8941\n"
     ]
    }
   ],
   "source": [
    "history = model.fit(x_train, y_train, batch_size=32,epochs=3,verbose=1,validation_data=(x_test, y_test),validation_split=0.2)"
   ]
  },
  {
   "cell_type": "markdown",
   "metadata": {},
   "source": [
    "**Evaluate model on test data**"
   ]
  },
  {
   "cell_type": "code",
   "execution_count": 11,
   "metadata": {},
   "outputs": [
    {
     "name": "stdout",
     "output_type": "stream",
     "text": [
      "10000/10000 [==============================] - 1s 126us/step\n",
      "[1.6633325996143278, 0.8941]\n"
     ]
    }
   ],
   "source": [
    "loss = model.evaluate(x=x_test, y=y_test, batch_size=32, verbose=1, sample_weight=None, steps=None)\n",
    "print(loss)"
   ]
  },
  {
   "cell_type": "markdown",
   "metadata": {},
   "source": [
    "**Save model**\n",
    "\n",
    "In Keras, you can save the model to a HDF5 file(.h5) and reload it later simply by model.save(filepath) and keras.models.load_model(filepath), respectively.\n",
    "\n",
    "The saved model contains:\n",
    "* the architecture of the model, allowing to re-create the model\n",
    "* the weights of the model\n",
    "* the training configuration (loss, optimizer)\n",
    "* the state of the optimizer, allowing to resume training exactly where you left off.\n"
   ]
  },
  {
   "cell_type": "code",
   "execution_count": 12,
   "metadata": {},
   "outputs": [],
   "source": [
    "model.save('mlp.h5')\n",
    "# Delete model to make sure you reload it correctly:\n",
    "del model"
   ]
  },
  {
   "cell_type": "markdown",
   "metadata": {},
   "source": [
    "**Load model and Predict label for a random image in train set. Verify predicted label by ploting the image.**"
   ]
  },
  {
   "cell_type": "code",
   "execution_count": 13,
   "metadata": {},
   "outputs": [],
   "source": [
    "model = load_model('mlp.h5') "
   ]
  },
  {
   "cell_type": "code",
   "execution_count": 14,
   "metadata": {},
   "outputs": [
    {
     "name": "stdout",
     "output_type": "stream",
     "text": [
      "[0. 0. 0. 0. 0. 0. 0. 0. 0. 1.]\n",
      "[0. 0. 0. 0. 0. 0. 0. 0. 0. 1.]\n"
     ]
    }
   ],
   "source": [
    "a = np.random.randint(len(x_test))\n",
    "print(model.predict(x_test)[a])\n",
    "print(y_test[a])"
   ]
  },
  {
   "cell_type": "markdown",
   "metadata": {},
   "source": [
    "**Continue training + Callbacks**"
   ]
  },
  {
   "cell_type": "code",
   "execution_count": 15,
   "metadata": {},
   "outputs": [
    {
     "name": "stdout",
     "output_type": "stream",
     "text": [
      "Train on 48000 samples, validate on 12000 samples\n",
      "Epoch 1/100\n",
      "48000/48000 [==============================] - 30s 634us/step - loss: 0.3405 - acc: 0.9022 - val_loss: 0.2992 - val_acc: 0.9133\n",
      "Epoch 2/100\n",
      "48000/48000 [==============================] - 32s 657us/step - loss: 0.3059 - acc: 0.9133 - val_loss: 0.2694 - val_acc: 0.9241\n",
      "Epoch 3/100\n",
      "48000/48000 [==============================] - 31s 644us/step - loss: 0.2747 - acc: 0.9226 - val_loss: 0.2436 - val_acc: 0.9317\n",
      "Epoch 4/100\n",
      "48000/48000 [==============================] - 28s 577us/step - loss: 0.2460 - acc: 0.9300 - val_loss: 0.2257 - val_acc: 0.9354\n",
      "Epoch 5/100\n",
      "48000/48000 [==============================] - 33s 697us/step - loss: 0.2214 - acc: 0.9376 - val_loss: 0.2042 - val_acc: 0.9418\n",
      "Epoch 6/100\n",
      "48000/48000 [==============================] - 37s 778us/step - loss: 0.2004 - acc: 0.9428 - val_loss: 0.1889 - val_acc: 0.9458\n",
      "Epoch 7/100\n",
      "48000/48000 [==============================] - 41s 857us/step - loss: 0.1826 - acc: 0.9475 - val_loss: 0.1730 - val_acc: 0.9523\n",
      "Epoch 8/100\n",
      "48000/48000 [==============================] - 44s 919us/step - loss: 0.1675 - acc: 0.9528 - val_loss: 0.1615 - val_acc: 0.9544\n",
      "Epoch 00008: early stopping\n"
     ]
    },
    {
     "data": {
      "image/png": "[encoded data removed]",
      "text/plain": [
       "<Figure size 360x216 with 1 Axes>"
      ]
     },
     "metadata": {},
     "output_type": "display_data"
    },
    {
     "data": {
      "image/png": "[encoded data removed]",
      "text/plain": [
       "<Figure size 360x216 with 1 Axes>"
      ]
     },
     "metadata": {},
     "output_type": "display_data"
    }
   ],
   "source": [
    "# We will use two callbacks here: EarlyStopping, CSVLogger (you may add other callbacks to this list)\n",
    "callback = [keras.callbacks.EarlyStopping(monitor='val_acc', verbose=1, min_delta=0.01, patience = 2, mode = 'max'),\n",
    "            keras.callbacks.CSVLogger('log.csv'),keras.callbacks.BaseLogger(stateful_metrics=None)]\n",
    "history = model.fit(x_train, y_train,batch_size = 32,epochs = 100,verbose = 1,validation_split = 0.2,callbacks = callback)\n",
    "\n",
    "plt.figure(figsize=(5,3))\n",
    "plt.plot(history.epoch,history.history['loss'])\n",
    "plt.title('loss')\n",
    "\n",
    "plt.figure(figsize=(5,3))\n",
    "plt.plot(history.epoch,history.history['acc'])\n",
    "plt.title('accuracy');"
   ]
  },
  {
   "cell_type": "code",
   "execution_count": 16,
   "metadata": {},
   "outputs": [
    {
     "name": "stdout",
     "output_type": "stream",
     "text": [
      "10000/10000 [==============================] - 2s 187us/step\n"
     ]
    },
    {
     "data": {
      "text/plain": [
       "[0.8500307354156975, 0.9468]"
      ]
     },
     "execution_count": 16,
     "metadata": {},
     "output_type": "execute_result"
    }
   ],
   "source": [
    "model.evaluate(x=x_test, y=y_test, batch_size=32, verbose=1, sample_weight=None, steps=None)"
   ]
  },
  {
   "cell_type": "markdown",
   "metadata": {},
   "source": [
    "## 4. Extras\n",
    "**Initialization is important!**\n",
    "\n",
    "this time use mean=0 and std=1 for initialization."
   ]
  },
  {
   "cell_type": "code",
   "execution_count": 17,
   "metadata": {},
   "outputs": [
    {
     "name": "stdout",
     "output_type": "stream",
     "text": [
      "_________________________________________________________________\n",
      "Layer (type)                 Output Shape              Param #   \n",
      "=================================================================\n",
      "dense_4 (Dense)              (None, 448)               351680    \n",
      "_________________________________________________________________\n",
      "dense_5 (Dense)              (None, 448)               201152    \n",
      "_________________________________________________________________\n",
      "dense_6 (Dense)              (None, 10)                4490      \n",
      "=================================================================\n",
      "Total params: 557,322\n",
      "Trainable params: 557,322\n",
      "Non-trainable params: 0\n",
      "_________________________________________________________________\n",
      "Train on 60000 samples, validate on 10000 samples\n",
      "Epoch 1/5\n",
      "60000/60000 [==============================] - 41s 686us/step - loss: 12.0418 - acc: 0.2526 - val_loss: 10.7524 - val_acc: 0.3329\n",
      "Epoch 2/5\n",
      "60000/60000 [==============================] - 39s 645us/step - loss: 10.8164 - acc: 0.3288 - val_loss: 10.6605 - val_acc: 0.3386\n",
      "Epoch 3/5\n",
      "60000/60000 [==============================] - 39s 646us/step - loss: 10.2436 - acc: 0.3644 - val_loss: 9.5516 - val_acc: 0.4074\n",
      "Epoch 4/5\n",
      "60000/60000 [==============================] - 38s 630us/step - loss: 9.6859 - acc: 0.3990 - val_loss: 10.1286 - val_acc: 0.3716\n",
      "Epoch 5/5\n",
      "60000/60000 [==============================] - 40s 666us/step - loss: 9.5391 - acc: 0.4081 - val_loss: 9.4613 - val_acc: 0.4130\n",
      "10000/10000 [==============================] - 2s 177us/step\n",
      "[9.4613220413208, 0.413]\n"
     ]
    }
   ],
   "source": [
    "model2 = Sequential()\n",
    "model2.add(Dense(448, activation='selu',kernel_initializer = RandomNormal(0,1), input_shape=(784,)))\n",
    "model2.add(Dense(448, activation='selu',kernel_initializer = RandomNormal(0,1)))\n",
    "model2.add(Dense(10, activation='softmax',kernel_initializer = RandomNormal(0,1)))\n",
    "model2.compile(loss='categorical_crossentropy', optimizer='Nadam', metrics=['accuracy'])\n",
    "model2.summary()\n",
    "model2.save('raw_model2.h5')\n",
    "history = model2.fit(x_train, y_train, batch_size=64,epochs=5,verbose=1,validation_data=(x_test, y_test),validation_split=0.25)\n",
    "loss = model2.evaluate(x=x_test, y=y_test, batch_size=32, verbose=1, sample_weight=None, steps=None)\n",
    "print(loss)"
   ]
  },
  {
   "cell_type": "markdown",
   "metadata": {},
   "source": [
    "**When I changed std(normal range (0.01,0.05)) to 1 and relu to 'selu' and  optimizer to 'Nadam' and decrease neurons count, as you see, accuracy went down and loss increased in the bad way while it increased computationaly beacuase of selu.**"
   ]
  },
  {
   "cell_type": "markdown",
   "metadata": {},
   "source": [
    "## Overfitting/Underfitting\n",
    "**Load the 'raw_model.h5' and this time use 1 percent of training data for training, and all test data for validation.**"
   ]
  },
  {
   "cell_type": "code",
   "execution_count": 19,
   "metadata": {},
   "outputs": [
    {
     "name": "stdout",
     "output_type": "stream",
     "text": [
      "Train on 54000 samples, validate on 6000 samples\n",
      "Epoch 1/100\n",
      "54000/54000 [==============================] - 39s 723us/step - loss: 2.1224 - acc: 0.3366 - val_loss: 1.2120 - val_acc: 0.6850\n",
      "Epoch 2/100\n",
      "54000/54000 [==============================] - 41s 753us/step - loss: 0.6855 - acc: 0.7990 - val_loss: 0.4027 - val_acc: 0.8877\n",
      "Epoch 3/100\n",
      "54000/54000 [==============================] - 58s 1ms/step - loss: 0.4214 - acc: 0.8789 - val_loss: 0.3156 - val_acc: 0.9087\n",
      "Epoch 4/100\n",
      "54000/54000 [==============================] - 41s 760us/step - loss: 0.3546 - acc: 0.8972 - val_loss: 0.2753 - val_acc: 0.9237\n",
      "Epoch 5/100\n",
      "54000/54000 [==============================] - 39s 727us/step - loss: 0.3130 - acc: 0.9100 - val_loss: 0.2421 - val_acc: 0.9325\n",
      "Epoch 6/100\n",
      "54000/54000 [==============================] - 38s 696us/step - loss: 0.2776 - acc: 0.9207 - val_loss: 0.2167 - val_acc: 0.9417\n",
      "Epoch 7/100\n",
      "54000/54000 [==============================] - 41s 754us/step - loss: 0.2462 - acc: 0.9304 - val_loss: 0.1906 - val_acc: 0.9437 loss: 0.2463 - acc:\n",
      "Epoch 8/100\n",
      "54000/54000 [==============================] - 43s 798us/step - loss: 0.2192 - acc: 0.9377 - val_loss: 0.1665 - val_acc: 0.9532\n",
      "Epoch 9/100\n",
      "54000/54000 [==============================] - 39s 718us/step - loss: 0.1962 - acc: 0.9447 - val_loss: 0.1527 - val_acc: 0.9590\n",
      "Epoch 10/100\n",
      "54000/54000 [==============================] - 38s 699us/step - loss: 0.1773 - acc: 0.9492 - val_loss: 0.1428 - val_acc: 0.9620\n",
      "Epoch 00010: early stopping\n"
     ]
    },
    {
     "data": {
      "image/png": "[encoded data removed]",
      "text/plain": [
       "<Figure size 360x216 with 1 Axes>"
      ]
     },
     "metadata": {},
     "output_type": "display_data"
    },
    {
     "data": {
      "image/png": "[encoded data removed]",
      "text/plain": [
       "<Figure size 360x216 with 1 Axes>"
      ]
     },
     "metadata": {},
     "output_type": "display_data"
    }
   ],
   "source": [
    "del model\n",
    "model = load_model('raw_model.h5') \n",
    "callback = [keras.callbacks.EarlyStopping(monitor='val_acc', verbose=1, min_delta=0.01, patience = 2, mode = 'max')]\n",
    "history = model.fit(x_train, y_train,batch_size = 32,epochs = 100,verbose = 1,validation_split = 0.1,callbacks = callback)\n",
    "\n",
    "plt.figure(figsize=(5,3))\n",
    "plt.plot(history.epoch,history.history['loss'])\n",
    "plt.title('loss')\n",
    "\n",
    "plt.figure(figsize=(5,3))\n",
    "plt.plot(history.epoch,history.history['acc'])\n",
    "plt.title('accuracy');"
   ]
  },
  {
   "cell_type": "code",
   "execution_count": 20,
   "metadata": {},
   "outputs": [
    {
     "name": "stdout",
     "output_type": "stream",
     "text": [
      "10000/10000 [==============================] - 2s 157us/step\n"
     ]
    },
    {
     "data": {
      "text/plain": [
       "[0.8754431659538721, 0.9448]"
      ]
     },
     "execution_count": 20,
     "metadata": {},
     "output_type": "execute_result"
    }
   ],
   "source": [
    "model.evaluate(x=x_test, y=y_test, batch_size=32, verbose=1, sample_weight=None, steps=None)"
   ]
  },
  {
   "cell_type": "markdown",
   "metadata": {},
   "source": [
    "**Result:** When i test trained network on 0.1 of validation data it seems acc is the same rather"
   ]
  }
 ],
 "metadata": {
  "kernelspec": {
   "display_name": "Python 3",
   "language": "python",
   "name": "python3"
  },
  "language_info": {
   "codemirror_mode": {
    "name": "ipython",
    "version": 3
   },
   "file_extension": ".py",
   "mimetype": "text/x-python",
   "name": "python",
   "nbconvert_exporter": "python",
   "pygments_lexer": "ipython3",
   "version": "3.6.6"
  }
 },
 "nbformat": 4,
 "nbformat_minor": 2
}
